{
 "cells": [
  {
   "metadata": {},
   "cell_type": "markdown",
   "source": "# Organize Results from the Experiments",
   "id": "1ee3d5c582cae0ac"
  },
  {
   "metadata": {
    "ExecuteTime": {
     "end_time": "2024-08-29T14:06:20.702829Z",
     "start_time": "2024-08-29T14:06:20.685312Z"
    }
   },
   "cell_type": "code",
   "source": [
    "from pathlib import Path\n",
    "import pandas as pd\n",
    "import logging\n",
    "from IPython.core.interactiveshell import InteractiveShell\n",
    "InteractiveShell.ast_node_interactivity = \"all\"\n"
   ],
   "id": "d53c5da4dff59994",
   "outputs": [],
   "execution_count": 22
  },
  {
   "metadata": {
    "ExecuteTime": {
     "end_time": "2024-08-29T14:06:22.327567Z",
     "start_time": "2024-08-29T14:06:22.315534Z"
    }
   },
   "cell_type": "code",
   "source": [
    "# get current working directory using pathlib\n",
    "cwd = Path.cwd()\n",
    "\n",
    "# define the path to the output folder\n",
    "output_analysis_path = cwd / Path(\"output\") / Path(\"output_analysis\")\n",
    "\n",
    "datatype = \"ML\" # \"ML\" or \"DL\"\n",
    "\n",
    "results_path = output_analysis_path / Path(datatype)\n",
    "\n",
    "# Check if the path exists and if it is a directory \n",
    "if results_path.exists() and results_path.is_dir():\n",
    "    logging.info(f\"Path exists: {results_path}\")\n",
    "else:\n",
    "    raise Exception(f\"Path does not exist: {results_path}\")\n"
   ],
   "id": "3ce09fbcba7485f8",
   "outputs": [],
   "execution_count": 23
  },
  {
   "metadata": {
    "ExecuteTime": {
     "end_time": "2024-08-29T14:06:25.710324Z",
     "start_time": "2024-08-29T14:06:25.696879Z"
    }
   },
   "cell_type": "code",
   "source": [
    "def merge_csvs(base_path: Path) -> None:\n",
    "    \"\"\"\n",
    "    Merge all CSV files in subfolders of the base path into a single CSV file.\n",
    "    :param base_path: \n",
    "    :return: \n",
    "    \"\"\"\n",
    "    # Convert the base path to a Path object\n",
    "    base_path = Path(base_path)\n",
    "    \n",
    "    # Iterate through each subfolder in the base path\n",
    "    for subfolder in base_path.iterdir():\n",
    "        if subfolder.is_dir():\n",
    "            # Create a list to store dataframes for each subfolder\n",
    "            df_list = []\n",
    "            \n",
    "            # Iterate through each CSV file in the current subfolder\n",
    "            for csv_file in subfolder.glob('*.csv'):\n",
    "                # Read the CSV into a dataframe\n",
    "                df = pd.read_csv(csv_file)\n",
    "                \n",
    "                # Add a header with the filename (without .csv extension)\n",
    "                header = pd.DataFrame([[csv_file.stem]], columns=df.columns[:1])  # Use the first column for the header\n",
    "                \n",
    "                # Append header and dataframe to the list\n",
    "                df_list.append(header)\n",
    "                df_list.append(df)\n",
    "            \n",
    "            # Concatenate all dataframes in the list\n",
    "            if df_list:\n",
    "                combined_df = pd.concat(df_list, ignore_index=True)\n",
    "                \n",
    "                # Define the output file path\n",
    "                output_file = subfolder / f'{subfolder.name}_combined.csv'\n",
    "                \n",
    "                # Check if the combined file already exists\n",
    "                if not output_file.exists():\n",
    "                    # Save the combined dataframe as a CSV in the same folder\n",
    "                    combined_df.to_csv(output_file, index=False)\n",
    "                    logging.info(f'Saved combined CSV: {output_file}')\n",
    "                else:\n",
    "                    logging.info(f'Skipped saving: {output_file} already exists')"
   ],
   "id": "21ce9affe4e9dcde",
   "outputs": [],
   "execution_count": 24
  },
  {
   "metadata": {
    "ExecuteTime": {
     "end_time": "2024-08-29T14:06:29.490578Z",
     "start_time": "2024-08-29T14:06:29.329108Z"
    }
   },
   "cell_type": "code",
   "source": [
    "# Merge the CSV files in the results_path\n",
    "merge_csvs(results_path)"
   ],
   "id": "bb20f41fb2c78ba4",
   "outputs": [],
   "execution_count": 25
  }
 ],
 "metadata": {
  "kernelspec": {
   "display_name": "Python 3",
   "language": "python",
   "name": "python3"
  },
  "language_info": {
   "codemirror_mode": {
    "name": "ipython",
    "version": 2
   },
   "file_extension": ".py",
   "mimetype": "text/x-python",
   "name": "python",
   "nbconvert_exporter": "python",
   "pygments_lexer": "ipython2",
   "version": "2.7.6"
  }
 },
 "nbformat": 4,
 "nbformat_minor": 5
}
