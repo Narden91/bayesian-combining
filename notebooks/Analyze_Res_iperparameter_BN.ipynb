{
 "cells": [
  {
   "cell_type": "code",
   "id": "initial_id",
   "metadata": {
    "collapsed": true,
    "ExecuteTime": {
     "end_time": "2025-01-31T15:55:14.362689Z",
     "start_time": "2025-01-31T15:55:14.357001Z"
    }
   },
   "source": [
    "import os\n",
    "import numpy as np\n",
    "import pandas as pd\n",
    "from pathlib import Path"
   ],
   "outputs": [],
   "execution_count": 3
  },
  {
   "metadata": {
    "ExecuteTime": {
     "end_time": "2025-01-31T15:56:32.928468Z",
     "start_time": "2025-01-31T15:56:32.916757Z"
    }
   },
   "cell_type": "code",
   "source": [
    "# Load the data\n",
    "parent_path_string= r\"C:\\Users\\Emanuele\\Desktop\\Risultati Iperparametrizzazione bayesian\\Best Algorithm\"\n",
    "parent_path = Path(parent_path_string)\n",
    "\n",
    "algorithm = Path(\"HC\")\n",
    "working_path = parent_path / algorithm\n"
   ],
   "id": "486c244c283f8180",
   "outputs": [
    {
     "data": {
      "text/plain": [
       "WindowsPath('C:/Users/Emanuele/Desktop/Risultati Iperparametrizzazione bayesian/Best Algorithm/HC')"
      ]
     },
     "execution_count": 7,
     "metadata": {},
     "output_type": "execute_result"
    }
   ],
   "execution_count": 7
  },
  {
   "metadata": {
    "ExecuteTime": {
     "end_time": "2025-01-31T16:00:10.597901Z",
     "start_time": "2025-01-31T16:00:10.566479Z"
    }
   },
   "cell_type": "code",
   "source": [
    "# Loop over the folders and load the data\n",
    "filename_to_load = \"average_metrics.csv\"\n",
    "\n",
    "df = pd.DataFrame()\n",
    "\n",
    "# loop inside working_path's folders\n",
    "for folder in working_path.iterdir():\n",
    "    # get the name of the folder\n",
    "    folder_name = folder.name\n",
    "    data = pd.read_csv(folder / filename_to_load)\n",
    "\n",
    "    print(folder_name)\n",
    "    print(data)    \n",
    "    # if folder.is_dir():\n",
    "    #     print(folder)\n",
    "    #     # load the data\n",
    "    #     data = pd.read_csv(folder / filename_to_load)\n",
    "    #     print(data)"
   ],
   "id": "fe0a79ab235b5add",
   "outputs": [
    {
     "name": "stdout",
     "output_type": "stream",
     "text": [
      "Bayesian_HillClimb_aic_BDeu\n",
      "                  Unnamed: 0  Accuracy  Precision  Sensitivity  Specificity  \\\n",
      "0     bayesian_network_train  0.951515   0.956123     0.953848     0.948810   \n",
      "1  weighted_majority_bn_vote  0.754088   0.700489     0.972621     0.509333   \n",
      "2           majority_vote_bn  0.896855   0.921193     0.885715     0.909333   \n",
      "3      bayesian_network_test  0.827043   0.852080     0.823809     0.830667   \n",
      "\n",
      "   F1_Score       MCC  Run_Executed  \n",
      "0  0.954849  0.902792            30  \n",
      "1  0.810775  0.553921            30  \n",
      "2  0.900921  0.797850            30  \n",
      "3  0.834617  0.658622            30  \n",
      "Bayesian_HillClimb_bdeu_BDeu\n",
      "                  Unnamed: 0  Accuracy  Precision  Sensitivity  Specificity  \\\n",
      "0     bayesian_network_train  0.955923   0.961522     0.956412     0.955358   \n",
      "1  weighted_majority_bn_vote  0.759749   0.707534     0.964287     0.530667   \n",
      "2           majority_vote_bn  0.898743   0.924125     0.886905     0.912000   \n",
      "3      bayesian_network_test  0.828301   0.852377     0.829762     0.826667   \n",
      "\n",
      "   F1_Score       MCC  Run_Executed  \n",
      "0  0.958856  0.911638            30  \n",
      "1  0.812481  0.561182            30  \n",
      "2  0.902925  0.801590            30  \n",
      "3  0.836486  0.663468            30  \n",
      "Bayesian_HillClimb_bic_BDeu\n",
      "                  Unnamed: 0  Accuracy  Precision  Sensitivity  Specificity  \\\n",
      "0     bayesian_network_train  0.934435   0.945410     0.932309     0.936906   \n",
      "1  weighted_majority_bn_vote  0.725788   0.678359     0.976192     0.445333   \n",
      "2           majority_vote_bn  0.891196   0.922002     0.873810     0.910667   \n",
      "3      bayesian_network_test  0.832075   0.851291     0.838095     0.825333   \n",
      "\n",
      "   F1_Score       MCC  Run_Executed  \n",
      "0  0.938577  0.868858            30  \n",
      "1  0.795320  0.504780            30  \n",
      "2  0.894804  0.787698            30  \n",
      "3  0.841491  0.668427            30  \n",
      "Bayesian_HillClimb_k2_BDeu\n",
      "                  Unnamed: 0  Accuracy  Precision  Sensitivity  Specificity  \\\n",
      "0     bayesian_network_train  0.955371   0.959226      0.95795     0.952381   \n",
      "1  weighted_majority_bn_vote  0.765410   0.710087      0.97143     0.534667   \n",
      "2           majority_vote_bn  0.906918   0.928742      0.89762     0.917333   \n",
      "3      bayesian_network_test  0.825157   0.849464      0.82619     0.824000   \n",
      "\n",
      "   F1_Score       MCC  Run_Executed  \n",
      "0  0.958392  0.910692            30  \n",
      "1  0.817129  0.574344            30  \n",
      "2  0.910637  0.818232            30  \n",
      "3  0.833882  0.655863            30  \n"
     ]
    }
   ],
   "execution_count": 12
  }
 ],
 "metadata": {
  "kernelspec": {
   "display_name": "Python 3",
   "language": "python",
   "name": "python3"
  },
  "language_info": {
   "codemirror_mode": {
    "name": "ipython",
    "version": 2
   },
   "file_extension": ".py",
   "mimetype": "text/x-python",
   "name": "python",
   "nbconvert_exporter": "python",
   "pygments_lexer": "ipython2",
   "version": "2.7.6"
  }
 },
 "nbformat": 4,
 "nbformat_minor": 5
}
